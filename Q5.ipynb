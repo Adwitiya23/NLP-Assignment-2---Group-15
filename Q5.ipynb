{
 "cells": [
  {
   "cell_type": "markdown",
   "id": "fea983c6",
   "metadata": {},
   "source": [
    "# Question 5"
   ]
  },
  {
   "cell_type": "code",
   "execution_count": 21,
   "id": "9593f34c",
   "metadata": {},
   "outputs": [
    {
     "name": "stderr",
     "output_type": "stream",
     "text": [
      "[nltk_data] Downloading package omw-1.4 to\n",
      "[nltk_data]     /Users/nedim.azar/nltk_data...\n",
      "[nltk_data]   Package omw-1.4 is already up-to-date!\n"
     ]
    }
   ],
   "source": [
    "import numpy as np\n",
    "import pandas as pd\n",
    "import nltk\n",
    "import torch\n",
    "nltk.download('omw-1.4')\n",
    "import checklist\n",
    "from copy import deepcopy\n",
    "from checklist.editor import Editor\n",
    "from checklist.perturb import Perturb\n",
    "from sklearn.metrics import f1_score, precision_score, recall_score, classification_report, confusion_matrix\n",
    "np.random.seed(42)"
   ]
  },
  {
   "cell_type": "code",
   "execution_count": 4,
   "id": "d93d1f94",
   "metadata": {},
   "outputs": [],
   "source": [
    "# Loading the subset data\n",
    "df = pd.read_csv('data/olid-subset-diagnostic-tests.csv')\n",
    "\n",
    "# Creating a version with typos\n",
    "df_typos = deepcopy(df)\n",
    "df_typos['text'] = df['text'].apply(Perturb.add_typos)\n",
    "\n",
    "df.to_csv('data/no_typos.csv')\n",
    "df_typos.to_csv('data/typos.csv')"
   ]
  },
  {
   "cell_type": "markdown",
   "id": "dd8a4b29",
   "metadata": {},
   "source": [
    "### We got the predictions on Google colab because it wouldn't work locally due to GPU and CUDA issues. We load those predictions in..."
   ]
  },
  {
   "cell_type": "code",
   "execution_count": 33,
   "id": "27b085d0",
   "metadata": {},
   "outputs": [],
   "source": [
    "predictions = pd.read_csv('predictions/No_Typos_Prediction.csv').drop(['Unnamed: 0'], axis=1)\n",
    "\n",
    "predictions_typos = pd.read_csv('predictions/Typos_Prediction.csv').drop(['Unnamed: 0'], axis=1)\n",
    "\n",
    "y_true = predictions['labels']\n",
    "y_pred = predictions['Predictions']\n",
    "y_pred_typos = predictions_typos['Predictions']\n",
    "pos_label = 1"
   ]
  },
  {
   "cell_type": "markdown",
   "id": "baac3bdc",
   "metadata": {},
   "source": [
    "## Precision Scores"
   ]
  },
  {
   "cell_type": "code",
   "execution_count": 26,
   "id": "d0b737ff",
   "metadata": {},
   "outputs": [
    {
     "data": {
      "text/plain": [
       "0.9459459459459459"
      ]
     },
     "execution_count": 26,
     "metadata": {},
     "output_type": "execute_result"
    }
   ],
   "source": [
    "# No Typos\n",
    "precision_score(y_true=y_true, y_pred=y_pred, pos_label=pos_label)"
   ]
  },
  {
   "cell_type": "code",
   "execution_count": 27,
   "id": "c31efa99",
   "metadata": {},
   "outputs": [
    {
     "data": {
      "text/plain": [
       "0.9459459459459459"
      ]
     },
     "execution_count": 27,
     "metadata": {},
     "output_type": "execute_result"
    }
   ],
   "source": [
    "# Typos\n",
    "precision_score(y_true=y_true, y_pred=y_pred_typos, pos_label=pos_label)"
   ]
  },
  {
   "cell_type": "code",
   "execution_count": 29,
   "id": "6cd0fd24",
   "metadata": {},
   "outputs": [
    {
     "data": {
      "text/plain": [
       "True"
      ]
     },
     "execution_count": 29,
     "metadata": {},
     "output_type": "execute_result"
    }
   ],
   "source": [
    "list(y_pred) == list(y_pred_typos)"
   ]
  },
  {
   "cell_type": "code",
   "execution_count": 35,
   "id": "55d871e2",
   "metadata": {},
   "outputs": [
    {
     "data": {
      "text/plain": [
       "0     1\n",
       "1     0\n",
       "2     1\n",
       "3     0\n",
       "4     1\n",
       "     ..\n",
       "95    0\n",
       "96    0\n",
       "97    0\n",
       "98    0\n",
       "99    0\n",
       "Name: Predictions, Length: 100, dtype: int64"
      ]
     },
     "execution_count": 35,
     "metadata": {},
     "output_type": "execute_result"
    }
   ],
   "source": [
    "y_pred"
   ]
  },
  {
   "cell_type": "code",
   "execution_count": 34,
   "id": "afc98e55",
   "metadata": {},
   "outputs": [
    {
     "data": {
      "text/plain": [
       "0     1\n",
       "1     0\n",
       "2     1\n",
       "3     0\n",
       "4     1\n",
       "     ..\n",
       "95    0\n",
       "96    0\n",
       "97    0\n",
       "98    0\n",
       "99    0\n",
       "Name: Predictions, Length: 100, dtype: int64"
      ]
     },
     "execution_count": 34,
     "metadata": {},
     "output_type": "execute_result"
    }
   ],
   "source": [
    "y_pred_typos"
   ]
  },
  {
   "cell_type": "code",
   "execution_count": 37,
   "id": "9ceb9182",
   "metadata": {},
   "outputs": [
    {
     "data": {
      "text/html": [
       "<div>\n",
       "<style scoped>\n",
       "    .dataframe tbody tr th:only-of-type {\n",
       "        vertical-align: middle;\n",
       "    }\n",
       "\n",
       "    .dataframe tbody tr th {\n",
       "        vertical-align: top;\n",
       "    }\n",
       "\n",
       "    .dataframe thead th {\n",
       "        text-align: right;\n",
       "    }\n",
       "</style>\n",
       "<table border=\"1\" class=\"dataframe\">\n",
       "  <thead>\n",
       "    <tr style=\"text-align: right;\">\n",
       "      <th></th>\n",
       "      <th>id</th>\n",
       "      <th>text</th>\n",
       "      <th>labels</th>\n",
       "      <th>Predictions</th>\n",
       "    </tr>\n",
       "  </thead>\n",
       "  <tbody>\n",
       "    <tr>\n",
       "      <th>0</th>\n",
       "      <td>89200</td>\n",
       "      <td>@USER @USER Who the hell does he think hei s?</td>\n",
       "      <td>1</td>\n",
       "      <td>1</td>\n",
       "    </tr>\n",
       "    <tr>\n",
       "      <th>1</th>\n",
       "      <td>71294</td>\n",
       "      <td>#BREAKING. #Greece: Molotov cocktails fly afte...</td>\n",
       "      <td>1</td>\n",
       "      <td>0</td>\n",
       "    </tr>\n",
       "    <tr>\n",
       "      <th>2</th>\n",
       "      <td>55633</td>\n",
       "      <td>#OrrinHatch I can’t believe this sexist  ,clue...</td>\n",
       "      <td>1</td>\n",
       "      <td>1</td>\n",
       "    </tr>\n",
       "    <tr>\n",
       "      <th>3</th>\n",
       "      <td>16856</td>\n",
       "      <td>@USER @USER I'll use that oen the next time im...</td>\n",
       "      <td>1</td>\n",
       "      <td>0</td>\n",
       "    </tr>\n",
       "    <tr>\n",
       "      <th>4</th>\n",
       "      <td>26072</td>\n",
       "      <td>0-1 lots my acca on the first fucking fight cba</td>\n",
       "      <td>1</td>\n",
       "      <td>1</td>\n",
       "    </tr>\n",
       "    <tr>\n",
       "      <th>...</th>\n",
       "      <td>...</td>\n",
       "      <td>...</td>\n",
       "      <td>...</td>\n",
       "      <td>...</td>\n",
       "    </tr>\n",
       "    <tr>\n",
       "      <th>95</th>\n",
       "      <td>45518</td>\n",
       "      <td>U@SER He is obviously getting suspended. He is...</td>\n",
       "      <td>0</td>\n",
       "      <td>0</td>\n",
       "    </tr>\n",
       "    <tr>\n",
       "      <th>96</th>\n",
       "      <td>51610</td>\n",
       "      <td>#Canada - EXCLUSIV:E #Trudeau #Liberals leave ...</td>\n",
       "      <td>0</td>\n",
       "      <td>0</td>\n",
       "    </tr>\n",
       "    <tr>\n",
       "      <th>97</th>\n",
       "      <td>26758</td>\n",
       "      <td>@SUER @USER ...than why did you show us how ho...</td>\n",
       "      <td>0</td>\n",
       "      <td>0</td>\n",
       "    </tr>\n",
       "    <tr>\n",
       "      <th>98</th>\n",
       "      <td>30718</td>\n",
       "      <td>@USER @USER @USER You have yet to answer what ...</td>\n",
       "      <td>0</td>\n",
       "      <td>0</td>\n",
       "    </tr>\n",
       "    <tr>\n",
       "      <th>99</th>\n",
       "      <td>82558</td>\n",
       "      <td>#MAGA  ... got any ideas how she could haved o...</td>\n",
       "      <td>0</td>\n",
       "      <td>0</td>\n",
       "    </tr>\n",
       "  </tbody>\n",
       "</table>\n",
       "<p>100 rows × 4 columns</p>\n",
       "</div>"
      ],
      "text/plain": [
       "       id                                               text  labels  \\\n",
       "0   89200      @USER @USER Who the hell does he think hei s?       1   \n",
       "1   71294  #BREAKING. #Greece: Molotov cocktails fly afte...       1   \n",
       "2   55633  #OrrinHatch I can’t believe this sexist  ,clue...       1   \n",
       "3   16856  @USER @USER I'll use that oen the next time im...       1   \n",
       "4   26072    0-1 lots my acca on the first fucking fight cba       1   \n",
       "..    ...                                                ...     ...   \n",
       "95  45518  U@SER He is obviously getting suspended. He is...       0   \n",
       "96  51610  #Canada - EXCLUSIV:E #Trudeau #Liberals leave ...       0   \n",
       "97  26758  @SUER @USER ...than why did you show us how ho...       0   \n",
       "98  30718  @USER @USER @USER You have yet to answer what ...       0   \n",
       "99  82558  #MAGA  ... got any ideas how she could haved o...       0   \n",
       "\n",
       "    Predictions  \n",
       "0             1  \n",
       "1             0  \n",
       "2             1  \n",
       "3             0  \n",
       "4             1  \n",
       "..          ...  \n",
       "95            0  \n",
       "96            0  \n",
       "97            0  \n",
       "98            0  \n",
       "99            0  \n",
       "\n",
       "[100 rows x 4 columns]"
      ]
     },
     "execution_count": 37,
     "metadata": {},
     "output_type": "execute_result"
    }
   ],
   "source": [
    "predictions_typos"
   ]
  }
 ],
 "metadata": {
  "kernelspec": {
   "display_name": "venv",
   "language": "python",
   "name": "venv"
  },
  "language_info": {
   "codemirror_mode": {
    "name": "ipython",
    "version": 3
   },
   "file_extension": ".py",
   "mimetype": "text/x-python",
   "name": "python",
   "nbconvert_exporter": "python",
   "pygments_lexer": "ipython3",
   "version": "3.8.9"
  }
 },
 "nbformat": 4,
 "nbformat_minor": 5
}

{
 "cells": [
  {
   "cell_type": "markdown",
   "id": "fea983c6",
   "metadata": {},
   "source": [
    "# Question 5"
   ]
  },
  {
   "cell_type": "code",
   "execution_count": 38,
   "id": "9593f34c",
   "metadata": {},
   "outputs": [
    {
     "name": "stderr",
     "output_type": "stream",
     "text": [
      "[nltk_data] Downloading package omw-1.4 to\n",
      "[nltk_data]     /Users/nedim.azar/nltk_data...\n",
      "[nltk_data]   Package omw-1.4 is already up-to-date!\n"
     ]
    }
   ],
   "source": [
    "import numpy as np\n",
    "import pandas as pd\n",
    "import nltk\n",
    "import torch\n",
    "nltk.download('omw-1.4')\n",
    "import checklist\n",
    "from copy import deepcopy\n",
    "from checklist.editor import Editor\n",
    "from checklist.perturb import Perturb\n",
    "from sklearn.metrics import precision_score, recall_score\n",
    "np.random.seed(42)"
   ]
  },
  {
   "cell_type": "code",
   "execution_count": 4,
   "id": "d93d1f94",
   "metadata": {},
   "outputs": [],
   "source": [
    "# Loading the subset data\n",
    "df = pd.read_csv('data/olid-subset-diagnostic-tests.csv')\n",
    "\n",
    "# Creating a version with typos\n",
    "df_typos = deepcopy(df)\n",
    "df_typos['text'] = df['text'].apply(Perturb.add_typos)\n",
    "\n",
    "df.to_csv('data/no_typos.csv')\n",
    "df_typos.to_csv('data/typos.csv')"
   ]
  },
  {
   "cell_type": "markdown",
   "id": "21659d1f",
   "metadata": {},
   "source": [
    "### We got the predictions on Google colab because it wouldn't work locally due to GPU and CUDA issues. We load those predictions in..."
   ]
  },
  {
   "cell_type": "code",
   "execution_count": 47,
   "id": "edd38a68",
   "metadata": {},
   "outputs": [],
   "source": [
    "predictions = pd.read_csv('predictions/No_Typos_Prediction.csv').drop(['Unnamed: 0'], axis=1)\n",
    "\n",
    "predictions_typos = pd.read_csv('predictions/Typos_Prediction.csv').drop(['Unnamed: 0'], axis=1)\n",
    "\n",
    "y_true = predictions['labels']\n",
    "y_pred = predictions['Predictions']\n",
    "y_pred_typos = predictions_typos['Predictions']\n",
    "pos_label = 1"
   ]
  },
  {
   "cell_type": "markdown",
   "id": "dda2b8b8",
   "metadata": {},
   "source": [
    "## Precision Scores"
   ]
  },
  {
   "cell_type": "code",
   "execution_count": 48,
   "id": "45e155f1",
   "metadata": {},
   "outputs": [
    {
     "data": {
      "text/plain": [
       "0.9459459459459459"
      ]
     },
     "execution_count": 48,
     "metadata": {},
     "output_type": "execute_result"
    }
   ],
   "source": [
    "# No Typos\n",
    "precision_score(y_true=y_true, y_pred=y_pred, pos_label=pos_label)"
   ]
  },
  {
   "cell_type": "code",
   "execution_count": 27,
   "id": "03f59df3",
   "metadata": {},
   "outputs": [
    {
     "data": {
      "text/plain": [
       "0.9459459459459459"
      ]
     },
     "execution_count": 27,
     "metadata": {},
     "output_type": "execute_result"
    }
   ],
   "source": [
    "# Typos\n",
    "precision_score(y_true=y_true, y_pred=y_pred_typos, pos_label=pos_label)"
   ]
  },
  {
   "cell_type": "markdown",
   "id": "2c9600e1",
   "metadata": {},
   "source": [
    "## Recall Scores"
   ]
  },
  {
   "cell_type": "code",
   "execution_count": 39,
   "id": "5f8fa90b",
   "metadata": {},
   "outputs": [
    {
     "data": {
      "text/plain": [
       "0.7"
      ]
     },
     "execution_count": 39,
     "metadata": {},
     "output_type": "execute_result"
    }
   ],
   "source": [
    "# No Typos\n",
    "recall_score(y_true=y_true, y_pred=y_pred, pos_label=pos_label)"
   ]
  },
  {
   "cell_type": "code",
   "execution_count": 40,
   "id": "f17635e2",
   "metadata": {},
   "outputs": [
    {
     "data": {
      "text/plain": [
       "0.7"
      ]
     },
     "execution_count": 40,
     "metadata": {},
     "output_type": "execute_result"
    }
   ],
   "source": [
    "# Typos\n",
    "recall_score(y_true=y_true, y_pred=y_pred_typos, pos_label=pos_label)"
   ]
  },
  {
   "cell_type": "markdown",
   "id": "862d85d4",
   "metadata": {},
   "source": [
    "## F1 Scores (Macro)"
   ]
  },
  {
   "cell_type": "code",
   "execution_count": 43,
   "id": "6c2be96a",
   "metadata": {},
   "outputs": [
    {
     "data": {
      "text/plain": [
       "0.8270776116366596"
      ]
     },
     "execution_count": 43,
     "metadata": {},
     "output_type": "execute_result"
    }
   ],
   "source": [
    "# No Typos\n",
    "f1_score(y_true=y_true, y_pred=y_pred, pos_label=pos_label, average='macro')"
   ]
  },
  {
   "cell_type": "code",
   "execution_count": 44,
   "id": "8fede6ec",
   "metadata": {},
   "outputs": [
    {
     "data": {
      "text/plain": [
       "0.8270776116366596"
      ]
     },
     "execution_count": 44,
     "metadata": {},
     "output_type": "execute_result"
    }
   ],
   "source": [
    "# Typos\n",
    "f1_score(y_true=y_true, y_pred=y_pred_typos, pos_label=pos_label, average='macro')"
   ]
  }
 ],
 "metadata": {
  "kernelspec": {
   "display_name": "venv",
   "language": "python",
   "name": "venv"
  },
  "language_info": {
   "codemirror_mode": {
    "name": "ipython",
    "version": 3
   },
   "file_extension": ".py",
   "mimetype": "text/x-python",
   "name": "python",
   "nbconvert_exporter": "python",
   "pygments_lexer": "ipython3",
   "version": "3.8.9"
  }
 },
 "nbformat": 4,
 "nbformat_minor": 5
}
